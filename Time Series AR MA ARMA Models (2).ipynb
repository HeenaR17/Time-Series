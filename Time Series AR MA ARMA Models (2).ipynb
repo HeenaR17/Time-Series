{
 "cells": [
  {
   "cell_type": "code",
   "execution_count": 11,
   "metadata": {},
   "outputs": [
    {
     "data": {
      "text/html": [
       "<div>\n",
       "<style scoped>\n",
       "    .dataframe tbody tr th:only-of-type {\n",
       "        vertical-align: middle;\n",
       "    }\n",
       "\n",
       "    .dataframe tbody tr th {\n",
       "        vertical-align: top;\n",
       "    }\n",
       "\n",
       "    .dataframe thead th {\n",
       "        text-align: right;\n",
       "    }\n",
       "</style>\n",
       "<table border=\"1\" class=\"dataframe\">\n",
       "  <thead>\n",
       "    <tr style=\"text-align: right;\">\n",
       "      <th></th>\n",
       "      <th>Month</th>\n",
       "      <th>demand</th>\n",
       "    </tr>\n",
       "  </thead>\n",
       "  <tbody>\n",
       "    <tr>\n",
       "      <th>0</th>\n",
       "      <td>1</td>\n",
       "      <td>457</td>\n",
       "    </tr>\n",
       "    <tr>\n",
       "      <th>1</th>\n",
       "      <td>2</td>\n",
       "      <td>439</td>\n",
       "    </tr>\n",
       "    <tr>\n",
       "      <th>2</th>\n",
       "      <td>3</td>\n",
       "      <td>404</td>\n",
       "    </tr>\n",
       "    <tr>\n",
       "      <th>3</th>\n",
       "      <td>4</td>\n",
       "      <td>392</td>\n",
       "    </tr>\n",
       "    <tr>\n",
       "      <th>4</th>\n",
       "      <td>5</td>\n",
       "      <td>403</td>\n",
       "    </tr>\n",
       "  </tbody>\n",
       "</table>\n",
       "</div>"
      ],
      "text/plain": [
       "   Month  demand\n",
       "0      1     457\n",
       "1      2     439\n",
       "2      3     404\n",
       "3      4     392\n",
       "4      5     403"
      ]
     },
     "execution_count": 11,
     "metadata": {},
     "output_type": "execute_result"
    }
   ],
   "source": [
    "import pandas as pd\n",
    "vimana_df = pd.read_csv(r'C:\\Users\\heena\\Downloads\\vimana.csv')\n",
    "vimana_df.head(5)"
   ]
  },
  {
   "cell_type": "code",
   "execution_count": 12,
   "metadata": {},
   "outputs": [
    {
     "name": "stdout",
     "output_type": "stream",
     "text": [
      "<class 'pandas.core.frame.DataFrame'>\n",
      "RangeIndex: 37 entries, 0 to 36\n",
      "Data columns (total 2 columns):\n",
      " #   Column  Non-Null Count  Dtype\n",
      "---  ------  --------------  -----\n",
      " 0   Month   37 non-null     int64\n",
      " 1   demand  37 non-null     int64\n",
      "dtypes: int64(2)\n",
      "memory usage: 720.0 bytes\n"
     ]
    }
   ],
   "source": [
    "vimana_df.info() \n"
   ]
  },
  {
   "cell_type": "code",
   "execution_count": 15,
   "metadata": {},
   "outputs": [
    {
     "data": {
      "image/png": "[encoded data removed]",
      "text/plain": [
       "<Figure size 432x288 with 1 Axes>"
      ]
     },
     "metadata": {
      "needs_background": "light"
     },
     "output_type": "display_data"
    }
   ],
   "source": [
    "from statsmodels.graphics.tsaplots import plot_acf, plot_pacf\n",
    "# Show autocorrelation upto lag 10\n",
    "acf_plot = plot_acf( vimana_df.demand,\n",
    "lags=20)\n"
   ]
  },
  {
   "cell_type": "code",
   "execution_count": 18,
   "metadata": {},
   "outputs": [
    {
     "data": {
      "image/png": "[encoded data removed]",
      "text/plain": [
       "<Figure size 432x288 with 1 Axes>"
      ]
     },
     "metadata": {
      "needs_background": "light"
     },
     "output_type": "display_data"
    }
   ],
   "source": [
    "pacf_plot = plot_pacf( vimana_df.demand,lags=17 ) "
   ]
  },
  {
   "cell_type": "markdown",
   "metadata": {},
   "source": [
    "# Building AR Model\n"
   ]
  },
  {
   "cell_type": "code",
   "execution_count": 19,
   "metadata": {},
   "outputs": [
    {
     "name": "stderr",
     "output_type": "stream",
     "text": [
      "c:\\users\\heena\\appdata\\local\\programs\\python\\python37\\lib\\site-packages\\statsmodels\\tsa\\arima_model.py:472: FutureWarning: \n",
      "statsmodels.tsa.arima_model.ARMA and statsmodels.tsa.arima_model.ARIMA have\n",
      "been deprecated in favor of statsmodels.tsa.arima.model.ARIMA (note the .\n",
      "between arima and model) and\n",
      "statsmodels.tsa.SARIMAX. These will be removed after the 0.12 release.\n",
      "\n",
      "statsmodels.tsa.arima.model.ARIMA makes use of the statespace framework and\n",
      "is both well tested and maintained.\n",
      "\n",
      "To silence this warning and continue using ARMA and ARIMA until they are\n",
      "removed, use:\n",
      "\n",
      "import warnings\n",
      "warnings.filterwarnings('ignore', 'statsmodels.tsa.arima_model.ARMA',\n",
      "                        FutureWarning)\n",
      "warnings.filterwarnings('ignore', 'statsmodels.tsa.arima_model.ARIMA',\n",
      "                        FutureWarning)\n",
      "\n",
      "  warnings.warn(ARIMA_DEPRECATION_WARN, FutureWarning)\n"
     ]
    }
   ],
   "source": [
    "import numpy as np\n",
    "import pandas as pd\n",
    "import matplotlib.pyplot as plt\n",
    "import seaborn as sn\n",
    "%matplotlib inline \n",
    "\n",
    "from statsmodels.tsa.arima_model import ARIMA\n",
    "\n",
    "arima = ARIMA( vimana_df.demand[0:30].astype(np.float64).to_numpy(), \n",
    "              order = (1,0,0))\n",
    "\n",
    "ar_model = arima.fit()\n",
    " "
   ]
  },
  {
   "cell_type": "code",
   "execution_count": 20,
   "metadata": {},
   "outputs": [
    {
     "data": {
      "text/html": [
       "<table class=\"simpletable\">\n",
       "<tr>\n",
       "        <td>Model:</td>              <td>ARMA</td>               <td>BIC:</td>         <td>375.7336</td>\n",
       "</tr>\n",
       "<tr>\n",
       "  <td>Dependent Variable:</td>         <td>y</td>           <td>Log-Likelihood:</td>    <td>-182.77</td>\n",
       "</tr>\n",
       "<tr>\n",
       "         <td>Date:</td>        <td>2020-11-10 04:47</td>        <td>Scale:</td>         <td>1.0000</td> \n",
       "</tr>\n",
       "<tr>\n",
       "   <td>No. Observations:</td>         <td>30</td>               <td>Method:</td>        <td>css-mle</td>\n",
       "</tr>\n",
       "<tr>\n",
       "       <td>Df Model:</td>              <td>2</td>               <td>Sample:</td>           <td>0</td>   \n",
       "</tr>\n",
       "<tr>\n",
       "     <td>Df Residuals:</td>           <td>28</td>                  <td></td>               <td>0</td>   \n",
       "</tr>\n",
       "<tr>\n",
       "      <td>Converged:</td>           <td>1.0000</td>      <td>S.D. of innovations:</td>  <td>106.593</td>\n",
       "</tr>\n",
       "<tr>\n",
       "    <td>No. Iterations:</td>        <td>14.0000</td>             <td>HQIC:</td>         <td>372.875</td>\n",
       "</tr>\n",
       "<tr>\n",
       "         <td>AIC:</td>             <td>371.5300</td>               <td></td>               <td></td>    \n",
       "</tr>\n",
       "</table>\n",
       "<table class=\"simpletable\">\n",
       "<tr>\n",
       "     <td></td>       <th>Coef.</th>  <th>Std.Err.</th>    <th>t</th>     <th>P>|t|</th>  <th>[0.025</th>   <th>0.975]</th> \n",
       "</tr>\n",
       "<tr>\n",
       "  <th>const</th>   <td>513.4432</td>  <td>35.9147</td> <td>14.2962</td> <td>0.0000</td> <td>443.0517</td> <td>583.8347</td>\n",
       "</tr>\n",
       "<tr>\n",
       "  <th>ar.L1.y</th>  <td>0.4726</td>   <td>0.1576</td>  <td>2.9995</td>  <td>0.0027</td>  <td>0.1638</td>   <td>0.7814</td> \n",
       "</tr>\n",
       "</table>\n",
       "<table class=\"simpletable\">\n",
       "<tr>\n",
       "    <td></td>    <th>Real</th>  <th>Imaginary</th> <th>Modulus</th> <th>Frequency</th>\n",
       "</tr>\n",
       "<tr>\n",
       "  <th>AR.1</th> <td>2.1161</td>  <td>0.0000</td>   <td>2.1161</td>   <td>0.0000</td>  \n",
       "</tr>\n",
       "</table>"
      ],
      "text/plain": [
       "<class 'statsmodels.iolib.summary2.Summary'>\n",
       "\"\"\"\n",
       "                          Results: ARMA\n",
       "==================================================================\n",
       "Model:              ARMA             BIC:                 375.7336\n",
       "Dependent Variable: y                Log-Likelihood:      -182.77 \n",
       "Date:               2020-11-10 04:47 Scale:               1.0000  \n",
       "No. Observations:   30               Method:              css-mle \n",
       "Df Model:           2                Sample:              0       \n",
       "Df Residuals:       28                                    0       \n",
       "Converged:          1.0000           S.D. of innovations: 106.593 \n",
       "No. Iterations:     14.0000          HQIC:                372.875 \n",
       "AIC:                371.5300                                      \n",
       "-------------------------------------------------------------------\n",
       "             Coef.    Std.Err.     t     P>|t|    [0.025    0.975] \n",
       "-------------------------------------------------------------------\n",
       "const       513.4432   35.9147  14.2962  0.0000  443.0517  583.8347\n",
       "ar.L1.y       0.4726    0.1576   2.9995  0.0027    0.1638    0.7814\n",
       "---------------------------------------------------------------------------\n",
       "               Real           Imaginary          Modulus          Frequency\n",
       "---------------------------------------------------------------------------\n",
       "AR.1          2.1161             0.0000           2.1161             0.0000\n",
       "==================================================================\n",
       "\n",
       "\"\"\""
      ]
     },
     "execution_count": 20,
     "metadata": {},
     "output_type": "execute_result"
    }
   ],
   "source": [
    "ar_model.summary2()"
   ]
  },
  {
   "cell_type": "code",
   "execution_count": 21,
   "metadata": {},
   "outputs": [
    {
     "data": {
      "text/plain": [
       "array([480.15336404, 497.71119117, 506.00861729, 509.92979044,\n",
       "       511.78284688, 512.65855882, 513.07240018])"
      ]
     },
     "execution_count": 21,
     "metadata": {},
     "output_type": "execute_result"
    }
   ],
   "source": [
    "forecast_31_37 = ar_model.predict(30, 36)\n",
    "forecast_31_37 \n"
   ]
  },
  {
   "cell_type": "code",
   "execution_count": 22,
   "metadata": {},
   "outputs": [],
   "source": [
    "import numpy as np\n",
    "def get_mape(actual, predicted):\n",
    " y_true, y_pred = np.array(actual), np.array(predicted)\n",
    " return np.round( np.mean(np.abs((actual - predicted) / actual)) * 100, 2 ) "
   ]
  },
  {
   "cell_type": "code",
   "execution_count": 23,
   "metadata": {},
   "outputs": [
    {
     "data": {
      "text/plain": [
       "19.12"
      ]
     },
     "execution_count": 23,
     "metadata": {},
     "output_type": "execute_result"
    }
   ],
   "source": [
    "get_mape( vimana_df.demand[30:],\n",
    "forecast_31_37 ) "
   ]
  },
  {
   "cell_type": "markdown",
   "metadata": {},
   "source": [
    "# Moving Average (MA) Processes"
   ]
  },
  {
   "cell_type": "code",
   "execution_count": 24,
   "metadata": {},
   "outputs": [
    {
     "name": "stderr",
     "output_type": "stream",
     "text": [
      "c:\\users\\heena\\appdata\\local\\programs\\python\\python37\\lib\\site-packages\\statsmodels\\tsa\\arima_model.py:472: FutureWarning: \n",
      "statsmodels.tsa.arima_model.ARMA and statsmodels.tsa.arima_model.ARIMA have\n",
      "been deprecated in favor of statsmodels.tsa.arima.model.ARIMA (note the .\n",
      "between arima and model) and\n",
      "statsmodels.tsa.SARIMAX. These will be removed after the 0.12 release.\n",
      "\n",
      "statsmodels.tsa.arima.model.ARIMA makes use of the statespace framework and\n",
      "is both well tested and maintained.\n",
      "\n",
      "To silence this warning and continue using ARMA and ARIMA until they are\n",
      "removed, use:\n",
      "\n",
      "import warnings\n",
      "warnings.filterwarnings('ignore', 'statsmodels.tsa.arima_model.ARMA',\n",
      "                        FutureWarning)\n",
      "warnings.filterwarnings('ignore', 'statsmodels.tsa.arima_model.ARIMA',\n",
      "                        FutureWarning)\n",
      "\n",
      "  warnings.warn(ARIMA_DEPRECATION_WARN, FutureWarning)\n"
     ]
    },
    {
     "data": {
      "text/html": [
       "<table class=\"simpletable\">\n",
       "<tr>\n",
       "        <td>Model:</td>              <td>ARMA</td>               <td>BIC:</td>         <td>378.7982</td>\n",
       "</tr>\n",
       "<tr>\n",
       "  <td>Dependent Variable:</td>         <td>y</td>           <td>Log-Likelihood:</td>    <td>-184.30</td>\n",
       "</tr>\n",
       "<tr>\n",
       "         <td>Date:</td>        <td>2020-11-10 04:47</td>        <td>Scale:</td>         <td>1.0000</td> \n",
       "</tr>\n",
       "<tr>\n",
       "   <td>No. Observations:</td>         <td>30</td>               <td>Method:</td>        <td>css-mle</td>\n",
       "</tr>\n",
       "<tr>\n",
       "       <td>Df Model:</td>              <td>2</td>               <td>Sample:</td>           <td>0</td>   \n",
       "</tr>\n",
       "<tr>\n",
       "     <td>Df Residuals:</td>           <td>28</td>                  <td></td>               <td>0</td>   \n",
       "</tr>\n",
       "<tr>\n",
       "      <td>Converged:</td>           <td>1.0000</td>      <td>S.D. of innovations:</td>  <td>112.453</td>\n",
       "</tr>\n",
       "<tr>\n",
       "    <td>No. Iterations:</td>        <td>15.0000</td>             <td>HQIC:</td>         <td>375.939</td>\n",
       "</tr>\n",
       "<tr>\n",
       "         <td>AIC:</td>             <td>374.5946</td>               <td></td>               <td></td>    \n",
       "</tr>\n",
       "</table>\n",
       "<table class=\"simpletable\">\n",
       "<tr>\n",
       "     <td></td>       <th>Coef.</th>  <th>Std.Err.</th>    <th>t</th>     <th>P>|t|</th>  <th>[0.025</th>   <th>0.975]</th> \n",
       "</tr>\n",
       "<tr>\n",
       "  <th>const</th>   <td>516.5429</td>  <td>26.8307</td> <td>19.2520</td> <td>0.0000</td> <td>463.9558</td> <td>569.1301</td>\n",
       "</tr>\n",
       "<tr>\n",
       "  <th>ma.L1.y</th>  <td>0.3173</td>   <td>0.1421</td>  <td>2.2327</td>  <td>0.0256</td>  <td>0.0388</td>   <td>0.5958</td> \n",
       "</tr>\n",
       "</table>\n",
       "<table class=\"simpletable\">\n",
       "<tr>\n",
       "    <td></td>    <th>Real</th>   <th>Imaginary</th> <th>Modulus</th> <th>Frequency</th>\n",
       "</tr>\n",
       "<tr>\n",
       "  <th>MA.1</th> <td>-3.1518</td>  <td>0.0000</td>   <td>3.1518</td>   <td>0.5000</td>  \n",
       "</tr>\n",
       "</table>"
      ],
      "text/plain": [
       "<class 'statsmodels.iolib.summary2.Summary'>\n",
       "\"\"\"\n",
       "                          Results: ARMA\n",
       "==================================================================\n",
       "Model:              ARMA             BIC:                 378.7982\n",
       "Dependent Variable: y                Log-Likelihood:      -184.30 \n",
       "Date:               2020-11-10 04:47 Scale:               1.0000  \n",
       "No. Observations:   30               Method:              css-mle \n",
       "Df Model:           2                Sample:              0       \n",
       "Df Residuals:       28                                    0       \n",
       "Converged:          1.0000           S.D. of innovations: 112.453 \n",
       "No. Iterations:     15.0000          HQIC:                375.939 \n",
       "AIC:                374.5946                                      \n",
       "-------------------------------------------------------------------\n",
       "             Coef.    Std.Err.     t     P>|t|    [0.025    0.975] \n",
       "-------------------------------------------------------------------\n",
       "const       516.5429   26.8307  19.2520  0.0000  463.9558  569.1301\n",
       "ma.L1.y       0.3173    0.1421   2.2327  0.0256    0.0388    0.5958\n",
       "--------------------------------------------------------------------------\n",
       "                 Real          Imaginary         Modulus         Frequency\n",
       "--------------------------------------------------------------------------\n",
       "MA.1           -3.1518            0.0000          3.1518            0.5000\n",
       "==================================================================\n",
       "\n",
       "\"\"\""
      ]
     },
     "execution_count": 24,
     "metadata": {},
     "output_type": "execute_result"
    }
   ],
   "source": [
    "arima = ARIMA( vimana_df.demand[0:30].astype(np.float64).to_numpy(),\n",
    "order = (0,0,1))\n",
    "ma_model = arima.fit()\n",
    "ma_model.summary2() \n"
   ]
  },
  {
   "cell_type": "code",
   "execution_count": 11,
   "metadata": {},
   "outputs": [
    {
     "data": {
      "text/plain": [
       "17.8"
      ]
     },
     "execution_count": 11,
     "metadata": {},
     "output_type": "execute_result"
    }
   ],
   "source": [
    "forecast_31_37 = ma_model.predict(30, 36)\n",
    "get_mape( vimana_df.demand[30:],\n",
    "forecast_31_37 ) "
   ]
  },
  {
   "cell_type": "markdown",
   "metadata": {},
   "source": [
    "# ARMA Model"
   ]
  },
  {
   "cell_type": "code",
   "execution_count": 25,
   "metadata": {},
   "outputs": [
    {
     "name": "stderr",
     "output_type": "stream",
     "text": [
      "c:\\users\\heena\\appdata\\local\\programs\\python\\python37\\lib\\site-packages\\statsmodels\\tsa\\arima_model.py:472: FutureWarning: \n",
      "statsmodels.tsa.arima_model.ARMA and statsmodels.tsa.arima_model.ARIMA have\n",
      "been deprecated in favor of statsmodels.tsa.arima.model.ARIMA (note the .\n",
      "between arima and model) and\n",
      "statsmodels.tsa.SARIMAX. These will be removed after the 0.12 release.\n",
      "\n",
      "statsmodels.tsa.arima.model.ARIMA makes use of the statespace framework and\n",
      "is both well tested and maintained.\n",
      "\n",
      "To silence this warning and continue using ARMA and ARIMA until they are\n",
      "removed, use:\n",
      "\n",
      "import warnings\n",
      "warnings.filterwarnings('ignore', 'statsmodels.tsa.arima_model.ARMA',\n",
      "                        FutureWarning)\n",
      "warnings.filterwarnings('ignore', 'statsmodels.tsa.arima_model.ARIMA',\n",
      "                        FutureWarning)\n",
      "\n",
      "  warnings.warn(ARIMA_DEPRECATION_WARN, FutureWarning)\n"
     ]
    },
    {
     "data": {
      "text/html": [
       "<table class=\"simpletable\">\n",
       "<tr>\n",
       "        <td>Model:</td>              <td>ARMA</td>               <td>BIC:</td>         <td>377.2964</td>\n",
       "</tr>\n",
       "<tr>\n",
       "  <td>Dependent Variable:</td>         <td>y</td>           <td>Log-Likelihood:</td>    <td>-181.85</td>\n",
       "</tr>\n",
       "<tr>\n",
       "         <td>Date:</td>        <td>2020-11-10 04:47</td>        <td>Scale:</td>         <td>1.0000</td> \n",
       "</tr>\n",
       "<tr>\n",
       "   <td>No. Observations:</td>         <td>30</td>               <td>Method:</td>        <td>css-mle</td>\n",
       "</tr>\n",
       "<tr>\n",
       "       <td>Df Model:</td>              <td>3</td>               <td>Sample:</td>           <td>0</td>   \n",
       "</tr>\n",
       "<tr>\n",
       "     <td>Df Residuals:</td>           <td>27</td>                  <td></td>               <td>0</td>   \n",
       "</tr>\n",
       "<tr>\n",
       "      <td>Converged:</td>           <td>1.0000</td>      <td>S.D. of innovations:</td>  <td>103.223</td>\n",
       "</tr>\n",
       "<tr>\n",
       "    <td>No. Iterations:</td>        <td>20.0000</td>             <td>HQIC:</td>         <td>373.485</td>\n",
       "</tr>\n",
       "<tr>\n",
       "         <td>AIC:</td>             <td>371.6916</td>               <td></td>               <td></td>    \n",
       "</tr>\n",
       "</table>\n",
       "<table class=\"simpletable\">\n",
       "<tr>\n",
       "     <td></td>       <th>Coef.</th>  <th>Std.Err.</th>    <th>t</th>     <th>P>|t|</th>  <th>[0.025</th>   <th>0.975]</th> \n",
       "</tr>\n",
       "<tr>\n",
       "  <th>const</th>   <td>508.4008</td>  <td>45.3277</td> <td>11.2161</td> <td>0.0000</td> <td>419.5601</td> <td>597.2414</td>\n",
       "</tr>\n",
       "<tr>\n",
       "  <th>ar.L1.y</th>  <td>0.7421</td>   <td>0.1681</td>  <td>4.4158</td>  <td>0.0000</td>  <td>0.4127</td>   <td>1.0715</td> \n",
       "</tr>\n",
       "<tr>\n",
       "  <th>ma.L1.y</th>  <td>-0.3394</td>  <td>0.2070</td>  <td>-1.6400</td> <td>0.1010</td>  <td>-0.7451</td>  <td>0.0662</td> \n",
       "</tr>\n",
       "</table>\n",
       "<table class=\"simpletable\">\n",
       "<tr>\n",
       "    <td></td>    <th>Real</th>  <th>Imaginary</th> <th>Modulus</th> <th>Frequency</th>\n",
       "</tr>\n",
       "<tr>\n",
       "  <th>AR.1</th> <td>1.3475</td>  <td>0.0000</td>   <td>1.3475</td>   <td>0.0000</td>  \n",
       "</tr>\n",
       "<tr>\n",
       "  <th>MA.1</th> <td>2.9461</td>  <td>0.0000</td>   <td>2.9461</td>   <td>0.0000</td>  \n",
       "</tr>\n",
       "</table>"
      ],
      "text/plain": [
       "<class 'statsmodels.iolib.summary2.Summary'>\n",
       "\"\"\"\n",
       "                          Results: ARMA\n",
       "==================================================================\n",
       "Model:              ARMA             BIC:                 377.2964\n",
       "Dependent Variable: y                Log-Likelihood:      -181.85 \n",
       "Date:               2020-11-10 04:47 Scale:               1.0000  \n",
       "No. Observations:   30               Method:              css-mle \n",
       "Df Model:           3                Sample:              0       \n",
       "Df Residuals:       27                                    0       \n",
       "Converged:          1.0000           S.D. of innovations: 103.223 \n",
       "No. Iterations:     20.0000          HQIC:                373.485 \n",
       "AIC:                371.6916                                      \n",
       "-------------------------------------------------------------------\n",
       "             Coef.    Std.Err.     t     P>|t|    [0.025    0.975] \n",
       "-------------------------------------------------------------------\n",
       "const       508.4008   45.3277  11.2161  0.0000  419.5601  597.2414\n",
       "ar.L1.y       0.7421    0.1681   4.4158  0.0000    0.4127    1.0715\n",
       "ma.L1.y      -0.3394    0.2070  -1.6400  0.1010   -0.7451    0.0662\n",
       "---------------------------------------------------------------------------\n",
       "               Real           Imaginary          Modulus          Frequency\n",
       "---------------------------------------------------------------------------\n",
       "AR.1          1.3475             0.0000           1.3475             0.0000\n",
       "MA.1          2.9461             0.0000           2.9461             0.0000\n",
       "==================================================================\n",
       "\n",
       "\"\"\""
      ]
     },
     "execution_count": 25,
     "metadata": {},
     "output_type": "execute_result"
    }
   ],
   "source": [
    "arima = ARIMA( vimana_df.demand[0:30].astype(np.float64).to_numpy(),\n",
    "order = (1,0,1))\n",
    "arma_model = arima.fit()\n",
    "arma_model.summary2() \n"
   ]
  },
  {
   "cell_type": "code",
   "execution_count": 26,
   "metadata": {},
   "outputs": [
    {
     "data": {
      "text/plain": [
       "20.27"
      ]
     },
     "execution_count": 26,
     "metadata": {},
     "output_type": "execute_result"
    }
   ],
   "source": [
    "forecast_31_37 = arma_model.predict(30, 36)\n",
    "get_mape( vimana_df.demand[30:],\n",
    "forecast_31_37 ) "
   ]
  },
  {
   "cell_type": "code",
   "execution_count": null,
   "metadata": {},
   "outputs": [],
   "source": []
  }
 ],
 "metadata": {
  "kernelspec": {
   "display_name": "Python 3",
   "language": "python",
   "name": "python3"
  },
  "language_info": {
   "codemirror_mode": {
    "name": "ipython",
    "version": 3
   },
   "file_extension": ".py",
   "mimetype": "text/x-python",
   "name": "python",
   "nbconvert_exporter": "python",
   "pygments_lexer": "ipython3",
   "version": "3.7.9"
  }
 },
 "nbformat": 4,
 "nbformat_minor": 4
}
